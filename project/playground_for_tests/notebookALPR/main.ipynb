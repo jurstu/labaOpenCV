{
 "cells": [
  {
   "cell_type": "code",
   "execution_count": 1,
   "metadata": {},
   "outputs": [],
   "source": [
    "import yolov5\n",
    "import requests\n",
    "import cv2\n",
    "import time\n",
    "import numpy as np\n",
    "from matplotlib import pyplot as plt"
   ]
  },
  {
   "cell_type": "code",
   "execution_count": 3,
   "metadata": {},
   "outputs": [],
   "source": [
    "def download_image(image_link: str) -> str:\n",
    "    # Download the image and save it locally as a .jpg file\n",
    "    response = requests.get(image_link)\n",
    "    local_filename = \"downloaded_image.jpg\"\n",
    "    with open(local_filename, \"wb\") as f:\n",
    "        f.write(response.content)\n",
    "    return local_filename"
   ]
  },
  {
   "cell_type": "code",
   "execution_count": 4,
   "metadata": {},
   "outputs": [],
   "source": [
    "# set image\n",
    "#img = 'https://tablica-rejestracyjna.pl/images/photos/20241222194356.jpeg'\n",
    "#img = 'https://tablica-rejestracyjna.pl/images/photos/20241222132622.jpg'\n",
    "img = \"https://tablica-rejestracyjna.pl/images/photos/20241221145937.jpg\"\n",
    "\n",
    "img_filename = download_image(img)\n",
    "img = cv2.imread(img_filename)\n"
   ]
  },
  {
   "cell_type": "code",
   "execution_count": 5,
   "metadata": {},
   "outputs": [
    {
     "name": "stderr",
     "output_type": "stream",
     "text": [
      "/home/harold/.local/lib/python3.12/site-packages/tqdm/auto.py:21: TqdmWarning: IProgress not found. Please update jupyter and ipywidgets. See https://ipywidgets.readthedocs.io/en/stable/user_install.html\n",
      "  from .autonotebook import tqdm as notebook_tqdm\n",
      "[W1226 18:41:07.809882265 NNPACK.cpp:61] Could not initialize NNPACK! Reason: Unsupported hardware.\n",
      "/home/harold/.local/lib/python3.12/site-packages/yolov5/models/common.py:709: FutureWarning: `torch.cuda.amp.autocast(args...)` is deprecated. Please use `torch.amp.autocast('cuda', args...)` instead.\n",
      "  with amp.autocast(autocast):\n"
     ]
    },
    {
     "name": "stdout",
     "output_type": "stream",
     "text": [
      "inference time 1.574824333190918\n"
     ]
    }
   ],
   "source": [
    "# load model\n",
    "model = yolov5.load('keremberke/yolov5m-license-plate')\n",
    "  \n",
    "# set model parameters\n",
    "model.conf = 0.25  # NMS confidence threshold\n",
    "model.iou = 0.45  # NMS IoU threshold\n",
    "model.agnostic = False  # NMS class-agnostic\n",
    "model.multi_label = False  # NMS multiple labels per box\n",
    "model.max_det = 1000  # maximum number of detections per image\n",
    "\n",
    "\n",
    "\n",
    "# perform inference\n",
    "tstart = time.time()\n",
    "results = model(img, size=640)\n",
    "print(\"inference time\", time.time() - tstart)\n",
    "\n",
    "# inference with test time augmentation\n",
    "#results = model(img, augment=True)\n",
    "\n",
    "# parse results\n",
    "\n",
    "\n",
    "\n",
    "# show detection bounding boxes on image\n",
    "#results.show()\n",
    "\n",
    "# save results into \"results/\" folder\n",
    "#results.save(save_dir='results/')\n"
   ]
  },
  {
   "cell_type": "code",
   "execution_count": null,
   "metadata": {},
   "outputs": [
    {
     "name": "stdout",
     "output_type": "stream",
     "text": [
      "1703 714 1875 761\n",
      "(47, 172, 3)\n",
      "559 912 644 948\n",
      "(36, 85, 3)\n",
      "67 646 146 692\n",
      "(46, 79, 3)\n"
     ]
    },
    {
     "data": {
      "image/png": "[encoded data removed]",
      "text/plain": [
       "<Figure size 640x480 with 1 Axes>"
      ]
     },
     "metadata": {},
     "output_type": "display_data"
    }
   ],
   "source": [
    "predictions = results.pred[0]\n",
    "boxes = predictions[:, :4] # x1, y1, x2, y2\n",
    "scores = predictions[:, 4]\n",
    "categories = predictions[:, 5]\n",
    "%matplotlib inline\n",
    "#boxes = np.matrix(boxes)\n",
    "\n",
    "fig, axs = plt.subplots(len(boxes))\n",
    "\n",
    "for i, box in enumerate(boxes):\n",
    "    box = [int(x) for x in box]\n",
    "    x1, y1, x2, y2 = box\n",
    "    print(x1, y1, x2, y2)\n",
    "    reg = img[y1:y2, x1:x2]\n",
    "    print(reg.shape)\n",
    "    axs[i].imshow(reg)\n",
    "\n"
   ]
  }
 ],
 "metadata": {
  "kernelspec": {
   "display_name": "Python 3",
   "language": "python",
   "name": "python3"
  },
  "language_info": {
   "codemirror_mode": {
    "name": "ipython",
    "version": 3
   },
   "file_extension": ".py",
   "mimetype": "text/x-python",
   "name": "python",
   "nbconvert_exporter": "python",
   "pygments_lexer": "ipython3",
   "version": "3.12.3"
  }
 },
 "nbformat": 4,
 "nbformat_minor": 2
}
